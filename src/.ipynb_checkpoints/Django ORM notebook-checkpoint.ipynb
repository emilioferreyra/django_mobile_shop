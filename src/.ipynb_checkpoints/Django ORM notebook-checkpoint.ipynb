{
 "cells": [
  {
   "cell_type": "markdown",
   "metadata": {},
   "source": [
    "# Django ORM"
   ]
  },
  {
   "cell_type": "code",
   "execution_count": null,
   "metadata": {
    "collapsed": true
   },
   "outputs": [],
   "source": [
    "# Importamos los modelos de la app people \n",
    "from people.models import Person, PersonType"
   ]
  },
  {
   "cell_type": "markdown",
   "metadata": {},
   "source": [
    "### Listando todas las personas de la app people"
   ]
  },
  {
   "cell_type": "code",
   "execution_count": null,
   "metadata": {
    "collapsed": false
   },
   "outputs": [],
   "source": [
    "# Declaramos la variable personas usando el modelo \"Persons\"\n",
    "\n",
    "personas = Person.objects.all()"
   ]
  },
  {
   "cell_type": "code",
   "execution_count": null,
   "metadata": {
    "collapsed": false
   },
   "outputs": [],
   "source": [
    "# Para ver la lista de personas llamamos la variable \"personas\"\n",
    "\n",
    "personas"
   ]
  },
  {
   "cell_type": "code",
   "execution_count": null,
   "metadata": {
    "collapsed": false
   },
   "outputs": [],
   "source": [
    "# Para mejorar la visualización de la lista anterior\n",
    "# usamos un bucle 'for' para iterar por el set de datos.\n",
    "\n",
    "for p in personas:\n",
    "    print(p)"
   ]
  },
  {
   "cell_type": "code",
   "execution_count": null,
   "metadata": {
    "collapsed": false
   },
   "outputs": [],
   "source": [
    "# Para ordenar por nombre de persona\n",
    "\n",
    "for p in personas.order_by('name'):\n",
    "    print(p)"
   ]
  },
  {
   "cell_type": "code",
   "execution_count": null,
   "metadata": {
    "collapsed": false
   },
   "outputs": [],
   "source": [
    "# Para mostrar el id además del nombre\n",
    "\n",
    "for p in personas.order_by('name'):\n",
    "    print(p.id, p)"
   ]
  },
  {
   "cell_type": "code",
   "execution_count": null,
   "metadata": {
    "collapsed": false
   },
   "outputs": [],
   "source": [
    "# Para ordenar por el \"id\" en vez del \"nombre\"\n",
    "\n",
    "for p in personas.order_by('id'):\n",
    "    print(p.id, p)"
   ]
  },
  {
   "cell_type": "markdown",
   "metadata": {},
   "source": [
    "### Listando los tipos de personas (PersonType)"
   ]
  },
  {
   "cell_type": "code",
   "execution_count": null,
   "metadata": {
    "collapsed": true
   },
   "outputs": [],
   "source": [
    "# Declaramos la varible tipo_personas\n",
    "\n",
    "tipo_personas = PersonType.objects.all()"
   ]
  },
  {
   "cell_type": "code",
   "execution_count": null,
   "metadata": {
    "collapsed": false
   },
   "outputs": [],
   "source": [
    "tipo_personas"
   ]
  },
  {
   "cell_type": "code",
   "execution_count": null,
   "metadata": {
    "collapsed": false
   },
   "outputs": [],
   "source": [
    "# Listando usando un bucle\n",
    "\n",
    "for t in tipo_personas:\n",
    "    print(t)"
   ]
  },
  {
   "cell_type": "code",
   "execution_count": null,
   "metadata": {
    "collapsed": false
   },
   "outputs": [],
   "source": [
    "# Agregamos suplidores (Supplier) al modelo PersonType\n",
    "\n",
    "PersonType.objects.create(id=4, name='Supplier')"
   ]
  },
  {
   "cell_type": "code",
   "execution_count": null,
   "metadata": {
    "collapsed": false
   },
   "outputs": [],
   "source": [
    "# Listamos nuevamente el modelo PersonType\n",
    "\n",
    "for p in PersonType.objects.all():\n",
    "    print(p.id, p.name)"
   ]
  },
  {
   "cell_type": "code",
   "execution_count": null,
   "metadata": {
    "collapsed": false
   },
   "outputs": [],
   "source": [
    "# Borramos el tipo persona creado anteriormente\n",
    "\n",
    "PersonType.objects.filter(name='Supplier').delete()"
   ]
  },
  {
   "cell_type": "code",
   "execution_count": null,
   "metadata": {
    "collapsed": false
   },
   "outputs": [],
   "source": [
    "for p in PersonType.objects.all():\n",
    "    print(p.id, p.name)"
   ]
  },
  {
   "cell_type": "markdown",
   "metadata": {
    "collapsed": true
   },
   "source": [
    "### Ejecutando consultas relacionales"
   ]
  },
  {
   "cell_type": "code",
   "execution_count": 96,
   "metadata": {
    "collapsed": true
   },
   "outputs": [],
   "source": [
    "# Importamos los modelos de nuestra app products\n",
    "\n",
    "from products.models import Make, Model, ProductType, Product "
   ]
  },
  {
   "cell_type": "code",
   "execution_count": 104,
   "metadata": {
    "collapsed": true
   },
   "outputs": [],
   "source": [
    "# Declaramos la variable productos usando el modelo Product\n",
    "\n",
    "productos = Product.objects.all()"
   ]
  },
  {
   "cell_type": "code",
   "execution_count": 105,
   "metadata": {
    "collapsed": false
   },
   "outputs": [
    {
     "name": "stdout",
     "output_type": "stream",
     "text": [
      "Samsung Galaxy S7\n",
      "LG G5\n",
      "HTC 10\n",
      "Sony Xperia Z5\n",
      "Samsung Note 5\n"
     ]
    }
   ],
   "source": [
    "# Listamos los productos iterando con un bucle \"for\":\n",
    "\n",
    "for p in productos:\n",
    "    print(p)"
   ]
  },
  {
   "cell_type": "code",
   "execution_count": 98,
   "metadata": {
    "collapsed": true
   },
   "outputs": [],
   "source": [
    "# Declaramos la variable fabricantes usando el modelo Make\n",
    "\n",
    "fabricantes = Make.objects.all()"
   ]
  },
  {
   "cell_type": "code",
   "execution_count": 99,
   "metadata": {
    "collapsed": false
   },
   "outputs": [
    {
     "name": "stdout",
     "output_type": "stream",
     "text": [
      "Samsung\n",
      "Sony\n",
      "HTC\n",
      "Huawei\n",
      "LG\n"
     ]
    }
   ],
   "source": [
    "# Llamomos la variable fabricantes iterando con un bucle \"for\":\n",
    "\n",
    "for f in fabricantes:\n",
    "    print(f)"
   ]
  },
  {
   "cell_type": "code",
   "execution_count": 108,
   "metadata": {
    "collapsed": false
   },
   "outputs": [],
   "source": [
    "# Consultamos los productos cuyo nombre de fabricante contenga la palabra \"Samsung\"\n",
    "# y creamos la variable \"samsung\":\n",
    "\n",
    "samsung = Product.objects.filter(make__name__icontains='Samsung')"
   ]
  },
  {
   "cell_type": "code",
   "execution_count": 109,
   "metadata": {
    "collapsed": false
   },
   "outputs": [
    {
     "data": {
      "text/plain": [
       "[<Product: Samsung Galaxy S7>, <Product: Samsung Note 5>]"
      ]
     },
     "execution_count": 109,
     "metadata": {},
     "output_type": "execute_result"
    }
   ],
   "source": [
    "# Llamamos la variable\n",
    "samsung"
   ]
  },
  {
   "cell_type": "code",
   "execution_count": 103,
   "metadata": {
    "collapsed": false
   },
   "outputs": [
    {
     "data": {
      "text/plain": [
       "2"
      ]
     },
     "execution_count": 103,
     "metadata": {},
     "output_type": "execute_result"
    }
   ],
   "source": [
    "# También podemos hacer un conteo:\n",
    "\n",
    "samsung.count()"
   ]
  },
  {
   "cell_type": "code",
   "execution_count": null,
   "metadata": {
    "collapsed": true
   },
   "outputs": [],
   "source": []
  }
 ],
 "metadata": {
  "kernelspec": {
   "display_name": "Django Shell-Plus",
   "language": "python",
   "name": "django_extensions"
  },
  "language_info": {
   "codemirror_mode": {
    "name": "ipython",
    "version": 3
   },
   "file_extension": ".py",
   "mimetype": "text/x-python",
   "name": "python",
   "nbconvert_exporter": "python",
   "pygments_lexer": "ipython3",
   "version": "3.5.3"
  }
 },
 "nbformat": 4,
 "nbformat_minor": 1
}
