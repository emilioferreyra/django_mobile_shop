{
 "cells": [
  {
   "cell_type": "markdown",
   "metadata": {},
   "source": [
    "# Django ORM"
   ]
  },
  {
   "cell_type": "code",
   "execution_count": 2,
   "metadata": {
    "collapsed": true
   },
   "outputs": [],
   "source": [
    "# Importamos los modelos de la app people \n",
    "from people.models import Person, PersonType"
   ]
  },
  {
   "cell_type": "markdown",
   "metadata": {},
   "source": [
    "### Listando todas las personas de la app people"
   ]
  },
  {
   "cell_type": "code",
   "execution_count": 3,
   "metadata": {
    "collapsed": false
   },
   "outputs": [],
   "source": [
    "# Declaramos la variable personas usando el modelo \"Persons\"\n",
    "\n",
    "personas = Person.objects.all()"
   ]
  },
  {
   "cell_type": "code",
   "execution_count": 4,
   "metadata": {
    "collapsed": false
   },
   "outputs": [
    {
     "data": {
      "text/plain": [
       "[<Person: Django>, <Person: Broomhilda von Shaft>, <Person: Dr. King Shultz>, <Person: Calvin Candie>, <Person: Stephen>]"
      ]
     },
     "execution_count": 4,
     "metadata": {},
     "output_type": "execute_result"
    }
   ],
   "source": [
    "# Para ver la lista de personas llamamos la variable \"personas\"\n",
    "\n",
    "personas"
   ]
  },
  {
   "cell_type": "code",
   "execution_count": 116,
   "metadata": {
    "collapsed": false
   },
   "outputs": [
    {
     "name": "stdout",
     "output_type": "stream",
     "text": [
      "Django\n",
      "Broomhilda von Shaft\n",
      "Dr. King Shultz\n",
      "Calvin Candie\n",
      "Stephen\n"
     ]
    }
   ],
   "source": [
    "# Para mejorar la visualización de la lista anterior\n",
    "# usamos un bucle 'for' para iterar por el set de datos.\n",
    "\n",
    "for p in personas:\n",
    "    print(p)"
   ]
  },
  {
   "cell_type": "code",
   "execution_count": 117,
   "metadata": {
    "collapsed": false
   },
   "outputs": [
    {
     "name": "stdout",
     "output_type": "stream",
     "text": [
      "Broomhilda von Shaft\n",
      "Calvin Candie\n",
      "Django\n",
      "Dr. King Shultz\n",
      "Stephen\n"
     ]
    }
   ],
   "source": [
    "# Para ordenar por nombre de persona\n",
    "\n",
    "for p in personas.order_by('name'):\n",
    "    print(p)"
   ]
  },
  {
   "cell_type": "code",
   "execution_count": 118,
   "metadata": {
    "collapsed": false
   },
   "outputs": [
    {
     "name": "stdout",
     "output_type": "stream",
     "text": [
      "2 Broomhilda von Shaft\n",
      "4 Calvin Candie\n",
      "1 Django\n",
      "3 Dr. King Shultz\n",
      "5 Stephen\n"
     ]
    }
   ],
   "source": [
    "# Para mostrar el id además del nombre\n",
    "\n",
    "for p in personas.order_by('name'):\n",
    "    print(p.id, p)"
   ]
  },
  {
   "cell_type": "code",
   "execution_count": 119,
   "metadata": {
    "collapsed": false
   },
   "outputs": [
    {
     "name": "stdout",
     "output_type": "stream",
     "text": [
      "1 Django\n",
      "2 Broomhilda von Shaft\n",
      "3 Dr. King Shultz\n",
      "4 Calvin Candie\n",
      "5 Stephen\n"
     ]
    }
   ],
   "source": [
    "# Para ordenar por el \"id\" en vez del \"nombre\"\n",
    "\n",
    "for p in personas.order_by('id'):\n",
    "    print(p.id, p)"
   ]
  },
  {
   "cell_type": "markdown",
   "metadata": {},
   "source": [
    "### Listando los tipos de personas (PersonType)"
   ]
  },
  {
   "cell_type": "code",
   "execution_count": 120,
   "metadata": {
    "collapsed": true
   },
   "outputs": [],
   "source": [
    "# Declaramos la varible tipo_personas\n",
    "\n",
    "tipo_personas = PersonType.objects.all()"
   ]
  },
  {
   "cell_type": "code",
   "execution_count": 121,
   "metadata": {
    "collapsed": false
   },
   "outputs": [
    {
     "data": {
      "text/plain": [
       "[<PersonType: Employee>, <PersonType: Customer>, <PersonType: Contact>]"
      ]
     },
     "execution_count": 121,
     "metadata": {},
     "output_type": "execute_result"
    }
   ],
   "source": [
    "tipo_personas"
   ]
  },
  {
   "cell_type": "code",
   "execution_count": 122,
   "metadata": {
    "collapsed": false
   },
   "outputs": [
    {
     "name": "stdout",
     "output_type": "stream",
     "text": [
      "Employee\n",
      "Customer\n",
      "Contact\n"
     ]
    }
   ],
   "source": [
    "# Listando usando un bucle\n",
    "\n",
    "for t in tipo_personas:\n",
    "    print(t)"
   ]
  },
  {
   "cell_type": "code",
   "execution_count": 123,
   "metadata": {
    "collapsed": false
   },
   "outputs": [
    {
     "data": {
      "text/plain": [
       "<PersonType: Supplier>"
      ]
     },
     "execution_count": 123,
     "metadata": {},
     "output_type": "execute_result"
    }
   ],
   "source": [
    "# Agregamos suplidores (Supplier) al modelo PersonType\n",
    "\n",
    "PersonType.objects.create(id=4, name='Supplier')"
   ]
  },
  {
   "cell_type": "code",
   "execution_count": 124,
   "metadata": {
    "collapsed": false
   },
   "outputs": [
    {
     "name": "stdout",
     "output_type": "stream",
     "text": [
      "1 Employee\n",
      "2 Customer\n",
      "3 Contact\n",
      "4 Supplier\n"
     ]
    }
   ],
   "source": [
    "# Listamos nuevamente el modelo PersonType\n",
    "\n",
    "for p in PersonType.objects.all():\n",
    "    print(p.id, p.name)"
   ]
  },
  {
   "cell_type": "code",
   "execution_count": 125,
   "metadata": {
    "collapsed": false
   },
   "outputs": [],
   "source": [
    "# Borramos el tipo persona creado anteriormente\n",
    "\n",
    "PersonType.objects.filter(name='Supplier').delete()"
   ]
  },
  {
   "cell_type": "code",
   "execution_count": 126,
   "metadata": {
    "collapsed": false
   },
   "outputs": [
    {
     "name": "stdout",
     "output_type": "stream",
     "text": [
      "1 Employee\n",
      "2 Customer\n",
      "3 Contact\n"
     ]
    }
   ],
   "source": [
    "for p in PersonType.objects.all():\n",
    "    print(p.id, p.name)"
   ]
  },
  {
   "cell_type": "markdown",
   "metadata": {
    "collapsed": true
   },
   "source": [
    "### Ejecutando consultas relacionales"
   ]
  },
  {
   "cell_type": "code",
   "execution_count": 127,
   "metadata": {
    "collapsed": true
   },
   "outputs": [],
   "source": [
    "# Importamos los modelos de nuestra app products\n",
    "\n",
    "from products.models import Make, Model, ProductType, Product "
   ]
  },
  {
   "cell_type": "code",
   "execution_count": 128,
   "metadata": {
    "collapsed": true
   },
   "outputs": [],
   "source": [
    "# Declaramos la variable productos usando el modelo Product\n",
    "\n",
    "productos = Product.objects.all()"
   ]
  },
  {
   "cell_type": "code",
   "execution_count": 129,
   "metadata": {
    "collapsed": false
   },
   "outputs": [
    {
     "name": "stdout",
     "output_type": "stream",
     "text": [
      "Samsung Galaxy S7\n",
      "LG G5\n",
      "HTC 10\n",
      "Sony Xperia Z5\n",
      "Samsung Note 5\n"
     ]
    }
   ],
   "source": [
    "# Listamos los productos iterando con un bucle \"for\":\n",
    "\n",
    "for p in productos:\n",
    "    print(p)"
   ]
  },
  {
   "cell_type": "code",
   "execution_count": 130,
   "metadata": {
    "collapsed": true
   },
   "outputs": [],
   "source": [
    "# Declaramos la variable fabricantes usando el modelo Make\n",
    "\n",
    "fabricantes = Make.objects.all()"
   ]
  },
  {
   "cell_type": "code",
   "execution_count": 131,
   "metadata": {
    "collapsed": false
   },
   "outputs": [
    {
     "name": "stdout",
     "output_type": "stream",
     "text": [
      "Samsung\n",
      "Sony\n",
      "HTC\n",
      "Huawei\n",
      "LG\n"
     ]
    }
   ],
   "source": [
    "# Llamomos la variable fabricantes iterando con un bucle \"for\":\n",
    "\n",
    "for f in fabricantes:\n",
    "    print(f)"
   ]
  },
  {
   "cell_type": "code",
   "execution_count": 132,
   "metadata": {
    "collapsed": false
   },
   "outputs": [],
   "source": [
    "# Consultamos los productos cuyo nombre de fabricante contenga la palabra \"Samsung\"\n",
    "# y creamos la variable \"samsung\":\n",
    "\n",
    "samsung = Product.objects.filter(make__name__icontains='Samsung')"
   ]
  },
  {
   "cell_type": "code",
   "execution_count": 133,
   "metadata": {
    "collapsed": false
   },
   "outputs": [
    {
     "name": "stdout",
     "output_type": "stream",
     "text": [
      "Samsung Galaxy S7\n",
      "Samsung Note 5\n"
     ]
    }
   ],
   "source": [
    "# Llamamos la variable\n",
    "for s in samsung:\n",
    "    print(s)"
   ]
  },
  {
   "cell_type": "code",
   "execution_count": 134,
   "metadata": {
    "collapsed": false
   },
   "outputs": [
    {
     "data": {
      "text/plain": [
       "2"
      ]
     },
     "execution_count": 134,
     "metadata": {},
     "output_type": "execute_result"
    }
   ],
   "source": [
    "# También podemos hacer un conteo:\n",
    "\n",
    "samsung.count()"
   ]
  },
  {
   "cell_type": "markdown",
   "metadata": {},
   "source": [
    "**Nota:**Para más información acerca del **ORM de Django** favor consultar la\n",
    "documentación en el siguiente [enlace](https://docs.djangoproject.com/en/1.11/topics/db/queries/)"
   ]
  },
  {
   "cell_type": "code",
   "execution_count": 8,
   "metadata": {
    "collapsed": true
   },
   "outputs": [],
   "source": [
    "from products.models import Offer, Product, ProductPicture"
   ]
  },
  {
   "cell_type": "code",
   "execution_count": 9,
   "metadata": {
    "collapsed": true
   },
   "outputs": [],
   "source": [
    "# Lista todas las ofertas las ordena descendentemente y las limita a sólo 6.\n",
    "offers = Offer.objects.filter(active=True).order_by('-id')[:6]"
   ]
  },
  {
   "cell_type": "code",
   "execution_count": 10,
   "metadata": {
    "collapsed": true
   },
   "outputs": [],
   "source": [
    "products = Product.objects.all()"
   ]
  },
  {
   "cell_type": "code",
   "execution_count": 11,
   "metadata": {
    "collapsed": false
   },
   "outputs": [
    {
     "name": "stdout",
     "output_type": "stream",
     "text": [
      "Sony Xperia Z5 366.00 35 4\n",
      "HTC 10 450.00 13 5\n",
      "Samsung Galaxy S7 550.00 60 5\n"
     ]
    }
   ],
   "source": [
    "for o in offers:\n",
    "    print(o.product, o.price, o.reviews, o.stars)"
   ]
  },
  {
   "cell_type": "code",
   "execution_count": 12,
   "metadata": {
    "collapsed": false
   },
   "outputs": [
    {
     "data": {
      "text/plain": [
       "<ProductPicture: /media/product_pictures/samsung-galaxy-s7-edge-21.jpg>"
      ]
     },
     "execution_count": 12,
     "metadata": {},
     "output_type": "execute_result"
    }
   ],
   "source": [
    "ProductPicture.objects.select_related('product__id').get(id=1)"
   ]
  },
  {
   "cell_type": "markdown",
   "metadata": {},
   "source": [
    "## TEST"
   ]
  },
  {
   "cell_type": "code",
   "execution_count": 24,
   "metadata": {
    "collapsed": true
   },
   "outputs": [],
   "source": [
    "from products.models import Offer"
   ]
  },
  {
   "cell_type": "code",
   "execution_count": 80,
   "metadata": {
    "collapsed": false
   },
   "outputs": [],
   "source": [
    "offers = Offer.objects.filter(active=True).order_by('-id')[:6]"
   ]
  },
  {
   "cell_type": "code",
   "execution_count": 81,
   "metadata": {
    "collapsed": false
   },
   "outputs": [
    {
     "data": {
      "text/plain": [
       "[<Offer: OnePlus 5>, <Offer: Sony Xperia Z5>, <Offer: HTC 10>, <Offer: Samsung Galaxy S7>]"
      ]
     },
     "execution_count": 81,
     "metadata": {},
     "output_type": "execute_result"
    }
   ],
   "source": [
    "offers"
   ]
  },
  {
   "cell_type": "code",
   "execution_count": 84,
   "metadata": {
    "collapsed": false
   },
   "outputs": [
    {
     "name": "stdout",
     "output_type": "stream",
     "text": [
      "1 4 OnePlus 5\n",
      "2 3 Sony Xperia Z5\n",
      "3 2 HTC 10\n",
      "4 1 Samsung Galaxy S7\n"
     ]
    }
   ],
   "source": [
    "for o in offers:\n",
    "    print(o.rating, o.id, o.product)"
   ]
  },
  {
   "cell_type": "code",
   "execution_count": 33,
   "metadata": {
    "collapsed": false
   },
   "outputs": [
    {
     "name": "stdout",
     "output_type": "stream",
     "text": [
      "1\n",
      "1\n",
      "2\n",
      "1\n",
      "2\n",
      "3\n",
      "1\n",
      "2\n",
      "3\n",
      "4\n"
     ]
    }
   ],
   "source": [
    "for i in offers:\n",
    "    for x in range(1, i.rating+1):\n",
    "        print(x)"
   ]
  },
  {
   "cell_type": "code",
   "execution_count": 49,
   "metadata": {
    "collapsed": false
   },
   "outputs": [],
   "source": [
    "oferta = Offer.objects.get(id=2)"
   ]
  },
  {
   "cell_type": "code",
   "execution_count": 50,
   "metadata": {
    "collapsed": false
   },
   "outputs": [
    {
     "data": {
      "text/plain": [
       "<Offer: HTC 10>"
      ]
     },
     "execution_count": 50,
     "metadata": {},
     "output_type": "execute_result"
    }
   ],
   "source": [
    "oferta"
   ]
  },
  {
   "cell_type": "code",
   "execution_count": 51,
   "metadata": {
    "collapsed": false,
    "scrolled": true
   },
   "outputs": [
    {
     "name": "stdout",
     "output_type": "stream",
     "text": [
      "<span class=\"glyphicon glyphicon-star\"></span>\n",
      "<span class=\"glyphicon glyphicon-star\"></span>\n",
      "<span class=\"glyphicon glyphicon-star\"></span>\n"
     ]
    }
   ],
   "source": [
    "for i in range(1, oferta.rating+1):\n",
    "    print('<span class=\"glyphicon glyphicon-star\"></span>')"
   ]
  },
  {
   "cell_type": "code",
   "execution_count": 43,
   "metadata": {
    "collapsed": true
   },
   "outputs": [],
   "source": [
    "offers = Offer.objects.filter(active=True).order_by('-id')[:6]"
   ]
  },
  {
   "cell_type": "code",
   "execution_count": 45,
   "metadata": {
    "collapsed": false
   },
   "outputs": [
    {
     "data": {
      "text/plain": [
       "[<Offer: OnePlus 5>, <Offer: Sony Xperia Z5>, <Offer: HTC 10>, <Offer: Samsung Galaxy S7>]"
      ]
     },
     "execution_count": 45,
     "metadata": {},
     "output_type": "execute_result"
    }
   ],
   "source": [
    "offers"
   ]
  },
  {
   "cell_type": "code",
   "execution_count": 74,
   "metadata": {
    "collapsed": false
   },
   "outputs": [],
   "source": [
    "def stars():\n",
    "    for i in offers:\n",
    "        for x in range(1, i.rating + 1):\n",
    "            return '<span class=\"glyphicon glyphicon-star\"></span>'"
   ]
  },
  {
   "cell_type": "code",
   "execution_count": 79,
   "metadata": {
    "collapsed": false
   },
   "outputs": [
    {
     "name": "stdout",
     "output_type": "stream",
     "text": [
      "<span class=\"glyphicon glyphicon-star\"></span>\n",
      "<span class=\"glyphicon glyphicon-star\"></span>\n",
      "<span class=\"glyphicon glyphicon-star\"></span>\n",
      "<span class=\"glyphicon glyphicon-star\"></span>\n",
      "<span class=\"glyphicon glyphicon-star\"></span>\n",
      "<span class=\"glyphicon glyphicon-star\"></span>\n",
      "<span class=\"glyphicon glyphicon-star\"></span>\n",
      "<span class=\"glyphicon glyphicon-star\"></span>\n",
      "<span class=\"glyphicon glyphicon-star\"></span>\n",
      "<span class=\"glyphicon glyphicon-star\"></span>\n"
     ]
    }
   ],
   "source": [
    "stars()"
   ]
  },
  {
   "cell_type": "code",
   "execution_count": 62,
   "metadata": {
    "collapsed": false
   },
   "outputs": [
    {
     "name": "stdout",
     "output_type": "stream",
     "text": [
      "<span class=\"glyphicon glyphicon-star\"></span>\n",
      "<span class=\"glyphicon glyphicon-star\"></span>\n",
      "<span class=\"glyphicon glyphicon-star\"></span>\n",
      "<span class=\"glyphicon glyphicon-star\"></span>\n",
      "<span class=\"glyphicon glyphicon-star\"></span>\n",
      "<span class=\"glyphicon glyphicon-star\"></span>\n",
      "<span class=\"glyphicon glyphicon-star\"></span>\n",
      "<span class=\"glyphicon glyphicon-star\"></span>\n",
      "<span class=\"glyphicon glyphicon-star\"></span>\n",
      "<span class=\"glyphicon glyphicon-star\"></span>\n"
     ]
    }
   ],
   "source": [
    "for i in offers:\n",
    "    for x in range(1, i.rating + 1):\n",
    "        print('<span class=\"glyphicon glyphicon-star\"></span>') "
   ]
  },
  {
   "cell_type": "code",
   "execution_count": null,
   "metadata": {
    "collapsed": true
   },
   "outputs": [],
   "source": []
  }
 ],
 "metadata": {
  "kernelspec": {
   "display_name": "Django Shell-Plus",
   "language": "python",
   "name": "django_extensions"
  },
  "language_info": {
   "codemirror_mode": {
    "name": "ipython",
    "version": 3
   },
   "file_extension": ".py",
   "mimetype": "text/x-python",
   "name": "python",
   "nbconvert_exporter": "python",
   "pygments_lexer": "ipython3",
   "version": "3.6.2"
  }
 },
 "nbformat": 4,
 "nbformat_minor": 1
}
